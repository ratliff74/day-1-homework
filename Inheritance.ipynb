{
 "cells": [
  {
   "cell_type": "code",
   "execution_count": 45,
   "id": "93f98d20",
   "metadata": {},
   "outputs": [],
   "source": [
    "class Animalia:\n",
    "    # class attributes\n",
    "    teeth = True\n",
    "    \n",
    "    # method overriding\n",
    "    def __init__(self, alive):\n",
    "        # instance attributes\n",
    "        self.alive = alive\n",
    "    \n",
    "    # method overriding\n",
    "    def __str__(self):\n",
    "        return f'{self.alive}'\n",
    "    \n",
    "    # method overriding\n",
    "    def __repr__(self):\n",
    "        return f'<Animalia: {self.alive}>'\n",
    "    \n",
    "    def make_sound(self):\n",
    "        print('Noise')\n",
    "        \n",
    "        \n",
    "class Canis(Animalia):\n",
    "    pass"
   ]
  },
  {
   "cell_type": "code",
   "execution_count": null,
   "id": "191f8ca0",
   "metadata": {},
   "outputs": [],
   "source": []
  },
  {
   "cell_type": "code",
   "execution_count": 46,
   "id": "0daf9423",
   "metadata": {},
   "outputs": [
    {
     "data": {
      "text/plain": [
       "<Animalia: True>"
      ]
     },
     "execution_count": 46,
     "metadata": {},
     "output_type": "execute_result"
    }
   ],
   "source": [
    "animal = Animalia(True)\n",
    "animal"
   ]
  },
  {
   "cell_type": "code",
   "execution_count": 47,
   "id": "1405ca29",
   "metadata": {},
   "outputs": [],
   "source": [
    "dog = Canis(True)"
   ]
  },
  {
   "cell_type": "code",
   "execution_count": 48,
   "id": "2c3654b7",
   "metadata": {},
   "outputs": [
    {
     "data": {
      "text/plain": [
       "True"
      ]
     },
     "execution_count": 48,
     "metadata": {},
     "output_type": "execute_result"
    }
   ],
   "source": [
    "dog.teeth"
   ]
  },
  {
   "cell_type": "code",
   "execution_count": 49,
   "id": "51154a57",
   "metadata": {},
   "outputs": [
    {
     "name": "stdout",
     "output_type": "stream",
     "text": [
      "Noise\n"
     ]
    }
   ],
   "source": [
    "dog.make_sound()"
   ]
  },
  {
   "cell_type": "code",
   "execution_count": 50,
   "id": "893443d2",
   "metadata": {},
   "outputs": [
    {
     "data": {
      "text/plain": [
       "<Animalia: True>"
      ]
     },
     "execution_count": 50,
     "metadata": {},
     "output_type": "execute_result"
    }
   ],
   "source": [
    "dog"
   ]
  },
  {
   "cell_type": "code",
   "execution_count": 51,
   "id": "900d5201",
   "metadata": {},
   "outputs": [
    {
     "name": "stdout",
     "output_type": "stream",
     "text": [
      "True\n"
     ]
    }
   ],
   "source": [
    "print(dog)"
   ]
  },
  {
   "cell_type": "code",
   "execution_count": 21,
   "id": "707f696a",
   "metadata": {},
   "outputs": [
    {
     "data": {
      "text/plain": [
       "<Car: Lincoln MKZ>"
      ]
     },
     "execution_count": 21,
     "metadata": {},
     "output_type": "execute_result"
    }
   ],
   "source": [
    "class Car:\n",
    "    def __init__(self, year, make, model):\n",
    "        self.year = year\n",
    "        self.make = make\n",
    "        self.model = model\n",
    "        \n",
    "    def __str__(self):\n",
    "        return f'{self.make} {self.model} ({self.year})'\n",
    "        \n",
    "    def __repr__(self):\n",
    "        return f'<Car: {self.make} {self.model}>'\n",
    "\n",
    "c1 = Car('2022', 'Lincoln', 'MKZ')\n",
    "# c1.__str__() -> executed via the print() function\n",
    "# c1.__repr__() -> executed by simply returning"
   ]
  },
  {
   "cell_type": "code",
   "execution_count": 22,
   "id": "b5b414cb",
   "metadata": {},
   "outputs": [
    {
     "data": {
      "text/plain": [
       "<Car: Lincoln MKZ>"
      ]
     },
     "execution_count": 22,
     "metadata": {},
     "output_type": "execute_result"
    }
   ],
   "source": [
    "c1"
   ]
  },
  {
   "cell_type": "code",
   "execution_count": 23,
   "id": "1f106c8a",
   "metadata": {
    "scrolled": true
   },
   "outputs": [
    {
     "name": "stdout",
     "output_type": "stream",
     "text": [
      "Lincoln MKZ (2022)\n"
     ]
    }
   ],
   "source": [
    "print(c1)"
   ]
  },
  {
   "cell_type": "code",
   "execution_count": null,
   "id": "f768ab16",
   "metadata": {},
   "outputs": [],
   "source": []
  },
  {
   "cell_type": "code",
   "execution_count": 84,
   "id": "ae67e3c3",
   "metadata": {},
   "outputs": [],
   "source": [
    "class Animalia:\n",
    "    # class attributes\n",
    "    teeth = True\n",
    "    \n",
    "    # method overriding\n",
    "    def __init__(self, alive, attr2, attr3, attr4, attr5):\n",
    "        # instance attributes\n",
    "        self.alive = alive\n",
    "        self.attr2 = attr2\n",
    "        self.attr3 = attr3\n",
    "        self.attr4 = attr4\n",
    "        self.attr5 = attr5\n",
    "    \n",
    "    # method overriding\n",
    "    def __str__(self):\n",
    "        return f'{self.alive}'\n",
    "    \n",
    "    # method overriding\n",
    "    def __repr__(self):\n",
    "        return f'<Animalia: {self.alive}>'\n",
    "    \n",
    "    def make_sound(self):\n",
    "        print('Noise')\n",
    "\n",
    "class Canidae(Animalia):\n",
    "    sharp = True\n",
    "        \n",
    "class Canis(Canidae):\n",
    "    # specify ALL attributes you need your class to be instantiated, not just the new ones\n",
    "    def __init__(self, alive, attr2, attr3, attr4, attr5, fur, legs, tail, name):\n",
    "        # specify which attributes you're defining from the parent class AND the child/current class \n",
    "        # Animalia.__init__(self, alive, attr2, attr3, attr4, attr5) # method #1 of inheriting instance attributes from parent\n",
    "        super().__init__(alive, attr2, attr3, attr4, attr5) # method #2 of inheriting instance attributes from parent\n",
    "        self.fur = fur\n",
    "        self.legs = legs\n",
    "        self.tail = tail\n",
    "        self.name = name"
   ]
  },
  {
   "cell_type": "code",
   "execution_count": 86,
   "id": "b8d530be",
   "metadata": {},
   "outputs": [],
   "source": [
    "dog2 = Canis(True, 1, 2, 3, 4, 'brown', 4, True, 'Lassie')"
   ]
  },
  {
   "cell_type": "code",
   "execution_count": 87,
   "id": "63a11818",
   "metadata": {},
   "outputs": [
    {
     "data": {
      "text/plain": [
       "{'alive': True,\n",
       " 'attr2': 1,\n",
       " 'attr3': 2,\n",
       " 'attr4': 3,\n",
       " 'attr5': 4,\n",
       " 'fur': 'brown',\n",
       " 'legs': 4,\n",
       " 'tail': True,\n",
       " 'name': 'Lassie'}"
      ]
     },
     "execution_count": 87,
     "metadata": {},
     "output_type": "execute_result"
    }
   ],
   "source": [
    "# .__dict__ -> only shows INSTANCE ATTRIBUTES, not CLASS ATTRIBUTES\n",
    "\n",
    "dog2.__dict__"
   ]
  },
  {
   "cell_type": "code",
   "execution_count": 88,
   "id": "bfc40ec6",
   "metadata": {},
   "outputs": [],
   "source": [
    "animal2 = Animalia(True, 1, 2, 3, 4)"
   ]
  },
  {
   "cell_type": "code",
   "execution_count": 89,
   "id": "ac0d6c0c",
   "metadata": {
    "scrolled": true
   },
   "outputs": [
    {
     "data": {
      "text/plain": [
       "{'alive': True, 'attr2': 1, 'attr3': 2, 'attr4': 3, 'attr5': 4}"
      ]
     },
     "execution_count": 89,
     "metadata": {},
     "output_type": "execute_result"
    }
   ],
   "source": [
    "animal2.__dict__"
   ]
  },
  {
   "cell_type": "code",
   "execution_count": null,
   "id": "66afe8b3",
   "metadata": {},
   "outputs": [],
   "source": []
  },
  {
   "cell_type": "code",
   "execution_count": 91,
   "id": "00c53498",
   "metadata": {},
   "outputs": [],
   "source": [
    "class Animalia:\n",
    "    # class attributes\n",
    "    teeth = True\n",
    "    \n",
    "    # method overriding\n",
    "    def __init__(self, alive, attr2, attr3, attr4, attr5):\n",
    "        # instance attributes\n",
    "        self.alive = alive\n",
    "        self.attr2 = attr2\n",
    "        self.attr3 = attr3\n",
    "        self.attr4 = attr4\n",
    "        self.attr5 = attr5\n",
    "    \n",
    "    # method overriding\n",
    "    def __str__(self):\n",
    "        return f'{self.alive}'\n",
    "    \n",
    "    # method overriding\n",
    "    def __repr__(self):\n",
    "        return f'<Animalia: {self.alive}>'\n",
    "    \n",
    "    def make_sound(self):\n",
    "        print('Noise')\n",
    "\n",
    "class Canidae:\n",
    "    sharp = True\n",
    "        \n",
    "class Canis(Animalia, Canidae): # Multiple Inheritance is a thing in Python\n",
    "    # specify ALL attributes you need your class to be instantiated, not just the new ones\n",
    "    def __init__(self, alive, attr2, attr3, attr4, attr5, fur, legs, tail, name):\n",
    "        # specify which attributes you're defining from the parent class AND the child/current class \n",
    "        # Animalia.__init__(self, alive, attr2, attr3, attr4, attr5) # method #1 of inheriting instance attributes from parent\n",
    "        super().__init__(alive, attr2, attr3, attr4, attr5) # method #2 of inheriting instance attributes from parent\n",
    "        self.fur = fur\n",
    "        self.legs = legs\n",
    "        self.tail = tail\n",
    "        self.name = name"
   ]
  },
  {
   "cell_type": "code",
   "execution_count": 92,
   "id": "ccf6dc9a",
   "metadata": {},
   "outputs": [],
   "source": [
    "dog2 = Canis(True, 1, 2, 3, 4, 'brown', 4, True, 'Lassie')"
   ]
  },
  {
   "cell_type": "code",
   "execution_count": 93,
   "id": "31eb2bec",
   "metadata": {},
   "outputs": [
    {
     "data": {
      "text/plain": [
       "{'alive': True,\n",
       " 'attr2': 1,\n",
       " 'attr3': 2,\n",
       " 'attr4': 3,\n",
       " 'attr5': 4,\n",
       " 'fur': 'brown',\n",
       " 'legs': 4,\n",
       " 'tail': True,\n",
       " 'name': 'Lassie'}"
      ]
     },
     "execution_count": 93,
     "metadata": {},
     "output_type": "execute_result"
    }
   ],
   "source": [
    "# .__dict__ -> only shows INSTANCE ATTRIBUTES, not CLASS ATTRIBUTES\n",
    "\n",
    "dog2.__dict__"
   ]
  },
  {
   "cell_type": "code",
   "execution_count": 94,
   "id": "d3a74dbc",
   "metadata": {},
   "outputs": [],
   "source": [
    "animal2 = Animalia(True, 1, 2, 3, 4)"
   ]
  },
  {
   "cell_type": "code",
   "execution_count": 95,
   "id": "cf4cbd45",
   "metadata": {
    "scrolled": true
   },
   "outputs": [
    {
     "data": {
      "text/plain": [
       "{'alive': True, 'attr2': 1, 'attr3': 2, 'attr4': 3, 'attr5': 4}"
      ]
     },
     "execution_count": 95,
     "metadata": {},
     "output_type": "execute_result"
    }
   ],
   "source": [
    "animal2.__dict__"
   ]
  },
  {
   "cell_type": "code",
   "execution_count": 96,
   "id": "442c152e",
   "metadata": {
    "scrolled": true
   },
   "outputs": [
    {
     "name": "stdout",
     "output_type": "stream",
     "text": [
      "Help on Canis in module __main__ object:\n",
      "\n",
      "class Canis(Animalia, Canidae)\n",
      " |  Canis(alive, attr2, attr3, attr4, attr5, fur, legs, tail, name)\n",
      " |  \n",
      " |  Method resolution order:\n",
      " |      Canis\n",
      " |      Animalia\n",
      " |      Canidae\n",
      " |      builtins.object\n",
      " |  \n",
      " |  Methods defined here:\n",
      " |  \n",
      " |  __init__(self, alive, attr2, attr3, attr4, attr5, fur, legs, tail, name)\n",
      " |      Initialize self.  See help(type(self)) for accurate signature.\n",
      " |  \n",
      " |  ----------------------------------------------------------------------\n",
      " |  Methods inherited from Animalia:\n",
      " |  \n",
      " |  __repr__(self)\n",
      " |      Return repr(self).\n",
      " |  \n",
      " |  __str__(self)\n",
      " |      Return str(self).\n",
      " |  \n",
      " |  make_sound(self)\n",
      " |  \n",
      " |  ----------------------------------------------------------------------\n",
      " |  Data descriptors inherited from Animalia:\n",
      " |  \n",
      " |  __dict__\n",
      " |      dictionary for instance variables (if defined)\n",
      " |  \n",
      " |  __weakref__\n",
      " |      list of weak references to the object (if defined)\n",
      " |  \n",
      " |  ----------------------------------------------------------------------\n",
      " |  Data and other attributes inherited from Animalia:\n",
      " |  \n",
      " |  teeth = True\n",
      " |  \n",
      " |  ----------------------------------------------------------------------\n",
      " |  Data and other attributes inherited from Canidae:\n",
      " |  \n",
      " |  sharp = True\n",
      "\n"
     ]
    }
   ],
   "source": [
    "help(dog2)"
   ]
  }
 ],
 "metadata": {
  "kernelspec": {
   "display_name": "Python 3 (ipykernel)",
   "language": "python",
   "name": "python3"
  },
  "language_info": {
   "codemirror_mode": {
    "name": "ipython",
    "version": 3
   },
   "file_extension": ".py",
   "mimetype": "text/x-python",
   "name": "python",
   "nbconvert_exporter": "python",
   "pygments_lexer": "ipython3",
   "version": "3.9.12"
  }
 },
 "nbformat": 4,
 "nbformat_minor": 5
}
