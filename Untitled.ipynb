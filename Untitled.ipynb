{
 "cells": [
  {
   "cell_type": "markdown",
   "id": "204e9690",
   "metadata": {},
   "source": [
    "# # Your task in this assignment is to create an OOP Employeee Management System(EMS). Below are some clues of how the program should be built. Use the following code to contstruct an EMS by making sure all methods and attributes work and do what they're supposed to do.**NOT ALL ATTRIBUTES AND METHODS ARE INCLUDED IN THE BLUEPRINT\" you will need to be somewhat creative in order to complete the program. Things to consider:\n",
    "Determin if there are any missing attributes or methods are missing from the current application\n",
    "Make sure all methods work and are functional\n",
    "All Mangers have teh ability to add and remove employees from their employees list.\n",
    "Use inheritance to complete the program"
   ]
  },
  {
   "cell_type": "code",
   "execution_count": 1,
   "id": "f4033a9f",
   "metadata": {},
   "outputs": [
    {
     "name": "stdout",
     "output_type": "stream",
     "text": [
      "1. Add New Employee\n",
      "2. Employee Directory\n",
      "3. Remove Employee :\n",
      "Enter Your Choice : 1\n",
      "Enter Employee No: 1\n",
      "Enter Employee Name: Andrew Ratliff\n",
      "Enter Employee Salary: 65000\n",
      "Enter Employee Emailjoedoe@doejoe.com\n",
      "1. Add New Employee\n",
      "2. Employee Directory\n",
      "3. Remove Employee :\n",
      "Enter Your Choice : 2\n",
      "\n",
      "\n",
      "1. Add New Employee\n",
      "2. Employee Directory\n",
      "3. Remove Employee :\n",
      "Enter Your Choice : 3\n",
      "\n",
      "\n",
      "1. Add New Employee\n",
      "2. Employee Directory\n",
      "3. Remove Employee :\n",
      "Enter Your Choice : Andrew Ratliff\n"
     ]
    },
    {
     "ename": "ValueError",
     "evalue": "invalid literal for int() with base 10: 'Andrew Ratliff'",
     "output_type": "error",
     "traceback": [
      "\u001b[1;31m---------------------------------------------------------------------------\u001b[0m",
      "\u001b[1;31mValueError\u001b[0m                                Traceback (most recent call last)",
      "Input \u001b[1;32mIn [1]\u001b[0m, in \u001b[0;36m<cell line: 65>\u001b[1;34m()\u001b[0m\n\u001b[0;32m     62\u001b[0m                 \u001b[38;5;28mself\u001b[39m\u001b[38;5;241m.\u001b[39mperson_all\u001b[38;5;241m.\u001b[39mremove(\u001b[38;5;28mself\u001b[39m)\n\u001b[0;32m     64\u001b[0m My_manager \u001b[38;5;241m=\u001b[39m Manager( \u001b[38;5;241m5478\u001b[39m, \u001b[38;5;124m\"\u001b[39m\u001b[38;5;124mAndrew Ratliff\u001b[39m\u001b[38;5;124m\"\u001b[39m, \u001b[38;5;241m65000\u001b[39m, \u001b[38;5;124m\"\u001b[39m\u001b[38;5;124mjoedoe@joedoe.com\u001b[39m\u001b[38;5;124m\"\u001b[39m)\n\u001b[1;32m---> 65\u001b[0m \u001b[43mMy_manager\u001b[49m\u001b[38;5;241;43m.\u001b[39;49m\u001b[43madd_employee\u001b[49m\u001b[43m(\u001b[49m\u001b[43m)\u001b[49m\n",
      "Input \u001b[1;32mIn [1]\u001b[0m, in \u001b[0;36mManager.add_employee\u001b[1;34m(self)\u001b[0m\n\u001b[0;32m     46\u001b[0m \u001b[38;5;28;01mwhile\u001b[39;00m choice \u001b[38;5;241m>\u001b[39m\u001b[38;5;241m=\u001b[39m \u001b[38;5;241m1\u001b[39m \u001b[38;5;129;01mand\u001b[39;00m choice \u001b[38;5;241m<\u001b[39m\u001b[38;5;241m=\u001b[39m \u001b[38;5;241m3\u001b[39m:\n\u001b[0;32m     47\u001b[0m     \u001b[38;5;28mprint\u001b[39m(\u001b[38;5;124m\"\u001b[39m\u001b[38;5;124m1. Add New Employee\u001b[39m\u001b[38;5;130;01m\\n\u001b[39;00m\u001b[38;5;124m2. Employee Directory\u001b[39m\u001b[38;5;130;01m\\n\u001b[39;00m\u001b[38;5;124m3. Remove Employee :\u001b[39m\u001b[38;5;124m\"\u001b[39m)\n\u001b[1;32m---> 48\u001b[0m     choice \u001b[38;5;241m=\u001b[39m \u001b[38;5;28;43mint\u001b[39;49m\u001b[43m(\u001b[49m\u001b[38;5;28;43minput\u001b[39;49m\u001b[43m(\u001b[49m\u001b[38;5;124;43m\"\u001b[39;49m\u001b[38;5;124;43mEnter Your Choice : \u001b[39;49m\u001b[38;5;124;43m\"\u001b[39;49m\u001b[43m)\u001b[49m\u001b[43m)\u001b[49m\n\u001b[0;32m     49\u001b[0m     \u001b[38;5;28;01mif\u001b[39;00m(choice \u001b[38;5;241m==\u001b[39m \u001b[38;5;241m1\u001b[39m):\n\u001b[0;32m     50\u001b[0m         num \u001b[38;5;241m=\u001b[39m \u001b[38;5;28mint\u001b[39m(\u001b[38;5;28minput\u001b[39m(\u001b[38;5;124m\"\u001b[39m\u001b[38;5;124mEnter Employee No: \u001b[39m\u001b[38;5;124m\"\u001b[39m))\n",
      "\u001b[1;31mValueError\u001b[0m: invalid literal for int() with base 10: 'Andrew Ratliff'"
     ]
    }
   ],
   "source": [
    "class Employee:\n",
    "    employee_list= []\n",
    "    \n",
    "    def __init__(self, num, Empname, salary, email):\n",
    "        self.num, self.Empname, self.salary, self.email = num, Empname, salary, email\n",
    "        \n",
    "    \n",
    "    def setnum(self, num):\n",
    "        self.num = num\n",
    "        \n",
    "    def getnum(self): \n",
    "        return self.num\n",
    "    \n",
    "    def setEmpname(self, Empname):\n",
    "        self.Empname = Empname\n",
    "    \n",
    "    def getEmpname(self):\n",
    "        return self.Empname \n",
    "    \n",
    "    def setsalary(self, salary):\n",
    "        self.salary = salary\n",
    "        \n",
    "    def getsalary(self):\n",
    "        return self.salary\n",
    "    \n",
    "    def setemail(self, email):\n",
    "        self.email= email\n",
    "        \n",
    "    def getemail(self):\n",
    "        return self.email\n",
    "    \n",
    "    def __repr__(self):\n",
    "        return f'<Employee: {self.email}>'\n",
    "\n",
    "\n",
    "    \n",
    "class Manager(Employee):\n",
    "    \n",
    "    def __init__ (self, num, Empname, salary, email, employee=[]):\n",
    "        super().__init__(num, Empname, salary, email)\n",
    "        self.person_all = []\n",
    "    \n",
    "    def add_employee(self):\n",
    "        \n",
    "        choice = 1\n",
    "        while choice >= 1 and choice <= 3:\n",
    "            print(\"1. Add New Employee\\n2. Employee Directory\\n3. Remove Employee :\")\n",
    "            choice = int(input(\"Enter Your Choice : \"))\n",
    "            if(choice == 1):\n",
    "                num = int(input(\"Enter Employee No: \"))\n",
    "                Empname = input(\"Enter Employee Name: \")\n",
    "                salary = float(input(\"Enter Employee Salary: \"))\n",
    "                email = input(\"Enter Employee Email\")\n",
    "                self.person_all.append(self)\n",
    "\n",
    "            elif(choice == 2):\n",
    "                print(\"\\n\")\n",
    "                \n",
    "                self.person_all\n",
    "\n",
    "            elif(choice == 3):\n",
    "                print(\"\\n\")\n",
    "                self.person_all.remove(self)\n",
    "\n",
    "My_manager = Manager( 5478, \"Andrew Ratliff\", 65000, \"joedoe@joedoe.com\")\n",
    "My_manager.add_employee()"
   ]
  },
  {
   "cell_type": "code",
   "execution_count": null,
   "id": "9acf4097",
   "metadata": {},
   "outputs": [],
   "source": []
  },
  {
   "cell_type": "code",
   "execution_count": null,
   "id": "665bfa8b",
   "metadata": {},
   "outputs": [],
   "source": [
    "def show_employees(self):\n",
    "        pass\n",
    "    \n",
    "    def remove_employee(self, email_address):\n",
    "        pass\n"
   ]
  }
 ],
 "metadata": {
  "kernelspec": {
   "display_name": "Python 3 (ipykernel)",
   "language": "python",
   "name": "python3"
  },
  "language_info": {
   "codemirror_mode": {
    "name": "ipython",
    "version": 3
   },
   "file_extension": ".py",
   "mimetype": "text/x-python",
   "name": "python",
   "nbconvert_exporter": "python",
   "pygments_lexer": "ipython3",
   "version": "3.9.12"
  }
 },
 "nbformat": 4,
 "nbformat_minor": 5
}
